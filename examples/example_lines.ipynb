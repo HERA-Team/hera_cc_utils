{
 "cells": [
  {
   "cell_type": "markdown",
   "id": "423d3763",
   "metadata": {},
   "source": [
    "# Example: comparing redshift and k-space coverage of different surveys"
   ]
  },
  {
   "cell_type": "code",
   "execution_count": 1,
   "id": "d1d75194",
   "metadata": {},
   "outputs": [
    {
     "name": "stdout",
     "output_type": "stream",
     "text": [
      "Populating the interactive namespace from numpy and matplotlib\n"
     ]
    }
   ],
   "source": [
    "%pylab inline\n",
    "import numpy as np\n",
    "import healpy as hp\n",
    "import matplotlib.pyplot as pl\n",
    "import hera_cc_utils as hera_cc\n",
    "from matplotlib.colors import LogNorm"
   ]
  },
  {
   "cell_type": "markdown",
   "id": "9891d53a",
   "metadata": {},
   "source": [
    "The goal here is simply to compare how various surveys (which target different emission lines) match-up in the redshifts they probe and the modes they are sensitive to. This relies on knowing the frequency range probed by each instrument, the spectral resolution, and the angular resolution. We have a lot of this information tabulated for experiments in the South in `hera_cc_utils.Survey`. You can access some experiments via, e.g.,"
   ]
  },
  {
   "cell_type": "code",
   "execution_count": 2,
   "id": "3104380b",
   "metadata": {},
   "outputs": [],
   "source": [
    "spherex = hera_cc.Survey('spherex')\n",
    "hera = hera_cc.Survey('hera')"
   ]
  },
  {
   "cell_type": "markdown",
   "id": "a7cd2930",
   "metadata": {},
   "source": [
    "To see what lines are probed by each survey, you can do"
   ]
  },
  {
   "cell_type": "code",
   "execution_count": 3,
   "id": "c2b9f769",
   "metadata": {},
   "outputs": [
    {
     "name": "stdout",
     "output_type": "stream",
     "text": [
      "['Ha', 'Hb', 'Lya', 'OII', 'OIII'] ['HI']\n"
     ]
    }
   ],
   "source": [
    "print(spherex.get_target_lines(), hera.get_target_lines())"
   ]
  },
  {
   "cell_type": "markdown",
   "id": "82a8ae36",
   "metadata": {},
   "source": [
    "or to see the range in perpendicular wavenumbers covered, e.g.,"
   ]
  },
  {
   "cell_type": "code",
   "execution_count": 4,
   "id": "e10b39a8",
   "metadata": {},
   "outputs": [
    {
     "data": {
      "text/plain": [
       "{'Ha': array([1.00000000e-02, 1.75919089e+01]),\n",
       " 'Hb': array([1.00000000e-02, 1.60977303e+01]),\n",
       " 'Lya': array([1.00000000e-02, 1.27558961e+01]),\n",
       " 'OII': array([1.0000000e-02, 1.5111718e+01]),\n",
       " 'OIII': array([1.00000000e-02, 1.62242287e+01])}"
      ]
     },
     "execution_count": 4,
     "metadata": {},
     "output_type": "execute_result"
    }
   ],
   "source": [
    "spherex.get_kperp_range()"
   ]
  },
  {
   "cell_type": "markdown",
   "id": "de12d880",
   "metadata": {},
   "source": [
    "There are some convenience routines for easy plotting, e.g., to see the coverage in $k_{\\perp}$-$k_{\\parallel}$ space:"
   ]
  },
  {
   "cell_type": "code",
   "execution_count": 5,
   "id": "4dc62ce7",
   "metadata": {},
   "outputs": [
    {
     "data": {
      "image/png": "[encoded data removed]",
      "text/plain": [
       "<Figure size 432x288 with 1 Axes>"
      ]
     },
     "metadata": {
      "needs_background": "light"
     },
     "output_type": "display_data"
    }
   ],
   "source": [
    "ax = spherex.plot_coverage_k(color='r', alpha=0.2)\n",
    "ax = hera.plot_coverage_k(color='b', alpha=0.2, ax=ax)"
   ]
  },
  {
   "cell_type": "markdown",
   "id": "62795c15",
   "metadata": {},
   "source": [
    "Focusing instead on the redshift range covered by each emission line, e.g.,"
   ]
  },
  {
   "cell_type": "code",
   "execution_count": 6,
   "id": "2a5fc561",
   "metadata": {},
   "outputs": [
    {
     "data": {
      "text/plain": [
       "{'Ha': array([0.14250239, 6.61668259]),\n",
       " 'Hb': array([0.54277768, 9.28518451]),\n",
       " 'Lya': array([ 5.16943743, 40.12958286]),\n",
       " 'OII': array([ 1.01234237, 12.41561578]),\n",
       " 'OIII': array([0.49790294, 8.98601957])}"
      ]
     },
     "execution_count": 6,
     "metadata": {},
     "output_type": "execute_result"
    }
   ],
   "source": [
    "spherex.get_redshift_ranges()"
   ]
  },
  {
   "cell_type": "markdown",
   "id": "58c8d305",
   "metadata": {},
   "source": [
    "and for some quick plots, e.g.,"
   ]
  },
  {
   "cell_type": "code",
   "execution_count": 7,
   "id": "28eb9666",
   "metadata": {},
   "outputs": [
    {
     "data": {
      "image/png": "[encoded data removed]",
      "text/plain": [
       "<Figure size 432x288 with 1 Axes>"
      ]
     },
     "metadata": {
      "needs_background": "light"
     },
     "output_type": "display_data"
    }
   ],
   "source": [
    "ax = spherex.plot_coverage_z()\n",
    "ax = hera.plot_coverage_z(ax=ax, start=5, ls='--')"
   ]
  },
  {
   "cell_type": "code",
   "execution_count": null,
   "id": "2c128d12",
   "metadata": {},
   "outputs": [],
   "source": []
  }
 ],
 "metadata": {
  "kernelspec": {
   "display_name": "Python 3 (ipykernel)",
   "language": "python",
   "name": "python3"
  },
  "language_info": {
   "codemirror_mode": {
    "name": "ipython",
    "version": 3
   },
   "file_extension": ".py",
   "mimetype": "text/x-python",
   "name": "python",
   "nbconvert_exporter": "python",
   "pygments_lexer": "ipython3",
   "version": "3.7.6"
  }
 },
 "nbformat": 4,
 "nbformat_minor": 5
}
